{
 "cells": [
  {
   "cell_type": "code",
   "execution_count": 1,
   "metadata": {},
   "outputs": [],
   "source": [
    "class MaximumIndependentSet:\n",
    "    def get_max_independent_set(parent_positions, node_weights):\n",
    "        length = len(parent_positions)\n",
    "        current_node = length - 1\n",
    "\n",
    "        #  length x 2 array\n",
    "        table = [[0 for _ in range(2)] for _ in range(length)]\n",
    "        # For each node, we have two options: include it or not include it\n",
    "        # table[i][0] indicates if i should be picked up for the maximum independent set\n",
    "        # table[i][1] indicates if i should not be picked up for the maximum independent set \n",
    "\n",
    "        while (current_node > 1):\n",
    "            child_node = current_node\n",
    "            table[parent_positions[child_node]\n",
    "                  ][0] = node_weights[parent_positions[child_node]]\n",
    "            while (child_node > 0 and parent_positions[current_node] == parent_positions[child_node]):\n",
    "                table[child_node][0] = max(\n",
    "                    table[child_node][0], node_weights[child_node])\n",
    "                table[parent_positions[current_node]\n",
    "                      ][0] += table[child_node][1]\n",
    "\n",
    "                table[parent_positions[current_node]\n",
    "                      ][1] += max(table[child_node][0], table[child_node][1])\n",
    "                child_node -= 1\n",
    "            current_node = child_node\n",
    "\n",
    "            max_value = table[current_node][0] if table[current_node][0] > table[current_node][1] else table[current_node][1]\n",
    "        return max_value\n"
   ]
  },
  {
   "cell_type": "code",
   "execution_count": 2,
   "metadata": {},
   "outputs": [
    {
     "name": "stdout",
     "output_type": "stream",
     "text": [
      "47\n"
     ]
    }
   ],
   "source": [
    "# Example from the question\n",
    "\n",
    "# Parent node postion of each node.\n",
    "# The root node has a parent position of 0\n",
    "parent_positions = [0, 0, 1, 1, 1, 2, 2, 2, 3, 4, 4, 6]\n",
    "node_weights = [0, 15, 8, 16, 18, 3, 5, 5, 7, 2, 9, 4]\n",
    "                # 0, 1, 2, 3, 4, 5, 6, 7, 8, 9, 10, 11 => node index\n",
    "\n",
    "print(MaximumIndependentSet.get_max_independent_set(\n",
    "    parent_positions, node_weights))\n"
   ]
  },
  {
   "cell_type": "code",
   "execution_count": 3,
   "metadata": {},
   "outputs": [
    {
     "name": "stdout",
     "output_type": "stream",
     "text": [
      "46\n"
     ]
    }
   ],
   "source": [
    "# Example from class slides\n",
    "parent_positions = [0, 0, 1, 1, 2, 2, 2, 3, 3, 5, 5, 8]\n",
    "node_weights = [0, 10, 5, 8, 4, 4, 9, 3, 11, 2, 7, 8]\n",
    "              # 0, 1, 2, 3, 4, 5, 6, 7, 8, 9, 10, 11, 12 => node index\n",
    "print(MaximumIndependentSet.get_max_independent_set(\n",
    "    parent_positions, node_weights))\n"
   ]
  },
  {
   "cell_type": "code",
   "execution_count": 4,
   "metadata": {},
   "outputs": [
    {
     "name": "stdout",
     "output_type": "stream",
     "text": [
      "Length of longest increasing sequence is  6 \n",
      " for input [30, 60, 20, 25, 75, 40, 10, 50, 90, 70, 80]\n"
     ]
    }
   ],
   "source": [
    "input_arr = [30, 60, 20, 25, 75, 40, 10, 50, 90, 70, 80]\n",
    "n = len(input_arr)\n",
    "\n",
    "memo = [1 for _ in range(n)]  # 1 as 1 is the smallest sub_seq\n",
    "\n",
    "'''\n",
    "The simplistic method would compute lists of sub-sequences for each element in the list,\n",
    "necessitating a continuous recalculation of the subsequence length.\n",
    "\n",
    "\n",
    "Instead, by storing the LIS up to index i and updating the memoization list to include any smaller elements that come before index i\n",
    "we can reduce this by extending the longest sequence to date.\n",
    "\n",
    "'''\n",
    "res = 0\n",
    "for i in range(n):\n",
    "    j = 0\n",
    "    while j < i:\n",
    "        if input_arr[j] < input_arr[i]:\n",
    "            memo[i] = max(memo[i], memo[j]+1)\n",
    "            res = memo[i]\n",
    "        j += 1\n",
    "    # find max of the memoized sequence lengths\n",
    "    res = max(res, memo[i])\n",
    "print(\"Length of longest increasing sequence is \", res, \"\\n for input\", input_arr)"
   ]
  },
  {
   "cell_type": "code",
   "execution_count": null,
   "metadata": {},
   "outputs": [],
   "source": []
  }
 ],
 "metadata": {
  "kernelspec": {
   "display_name": "Python 3.10.7 64-bit",
   "language": "python",
   "name": "python3"
  },
  "language_info": {
   "codemirror_mode": {
    "name": "ipython",
    "version": 3
   },
   "file_extension": ".py",
   "mimetype": "text/x-python",
   "name": "python",
   "nbconvert_exporter": "python",
   "pygments_lexer": "ipython3",
   "version": "3.10.7"
  },
  "orig_nbformat": 4,
  "vscode": {
   "interpreter": {
    "hash": "dd345128216770f6f38b67442ad3cdddc5a19fc44e06514e71fac60fafc41200"
   }
  }
 },
 "nbformat": 4,
 "nbformat_minor": 2
}
