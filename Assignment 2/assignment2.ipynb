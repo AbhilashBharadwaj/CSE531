{
 "cells": [
  {
   "cell_type": "code",
   "execution_count": 37,
   "metadata": {},
   "outputs": [
    {
     "name": "stdout",
     "output_type": "stream",
     "text": [
      "g : 00\n",
      "c : 010\n",
      "e : 011\n",
      "f : 10\n",
      "b : 1100\n",
      "d : 1101\n",
      "a : 111\n",
      "The weighted length is 778\n"
     ]
    }
   ],
   "source": [
    "from heapq import heappop, heappush\n",
    "\n",
    "letter_dictionary = {\n",
    "    \"a\": 50,\n",
    "    \"b\": 20,\n",
    "    \"c\": 27,\n",
    "    \"d\": 25,\n",
    "    \"e\": 29,\n",
    "    \"f\": 85,\n",
    "    \"g\": 55\n",
    "}\n",
    "\n",
    "\n",
    "class Node:\n",
    "    def __init__(self, character: str, count: int, left=None, right=None):\n",
    "        self.character: str = character\n",
    "        self.count: int = count\n",
    "        self.left = left\n",
    "        self.right = right\n",
    "        self.huffman_code = ''\n",
    "\n",
    "    def __lt__(self, other):\n",
    "        return self.count < other.count\n",
    "\n",
    "\n",
    "nodes: list[Node] = []\n",
    "\n",
    "for node in letter_dictionary.items():\n",
    "    heappush(nodes, Node(node[0], node[1]))\n",
    "\n",
    "\n",
    "while len(nodes) > 1:\n",
    "    min1 = heappop(nodes)\n",
    "    min2 = heappop(nodes)\n",
    "\n",
    "    min1.huffman_code = 0\n",
    "    min2.huffman_code = 1\n",
    "\n",
    "    character_aggregate = min1.character + min2.character\n",
    "    aggregate_count = min1.count + min2.count\n",
    "\n",
    "    aggregated_node = Node(character_aggregate,\n",
    "                           aggregate_count,\n",
    "                           left=min1, right=min2)\n",
    "\n",
    "    heappush(nodes, aggregated_node)\n",
    "\n",
    "\n",
    "weighted_length = 0\n",
    "\n",
    "\n",
    "def print_sequence(node: Node, current_sequence=''):\n",
    "    global weighted_length\n",
    "    # huffman code for current node\n",
    "    updated_sequence = current_sequence + str(node.huffman_code)\n",
    "\n",
    "    # if node is not an edge node\n",
    "    # then traverse inside it\n",
    "    if (node.left):\n",
    "        print_sequence(node.left, updated_sequence)\n",
    "    if (node.right):\n",
    "        print_sequence(node.right, updated_sequence)\n",
    "\n",
    "        # if node is edge node then\n",
    "        # display its huffman code\n",
    "    if (not node.left and not node.right):\n",
    "        weighted_length += letter_dictionary[node.character] * \\\n",
    "            len(updated_sequence)\n",
    "        print(f\"{node.character} : {updated_sequence}\")\n",
    "\n",
    "\n",
    "print_sequence(nodes[0])\n",
    "print(\"The weighted length is\", weighted_length)\n"
   ]
  },
  {
   "cell_type": "code",
   "execution_count": 3,
   "metadata": {},
   "outputs": [
    {
     "name": "stdout",
     "output_type": "stream",
     "text": [
      "[110, 80, 80, 30, 80, 80, 80, 40, 40, 40]\n"
     ]
    }
   ],
   "source": [
    "from heapq import heappush, heappop\n",
    "\n",
    "values = [110, 80, 10, 30, 90, 100, 20, 40, 35, 70]\n",
    "\n",
    "min_heap = []\n",
    "max_heap = []\n",
    "result = []\n",
    "for i in range(len(values)):\n",
    "\n",
    "    # Negation for using the heap as a max_heap\n",
    "    heappush(max_heap, -values[i])\n",
    "    heappush(min_heap, -heappop(max_heap))\n",
    "    if len(min_heap) > len(max_heap):\n",
    "        heappush(max_heap, -heappop(min_heap))\n",
    "\n",
    "    if len(min_heap) != len(max_heap):\n",
    "        result.append(-max_heap[0])\n",
    "    else:\n",
    "        result.append(- min(max_heap[0],min_heap[0]))\n",
    "\n",
    "print (result)        \n"
   ]
  },
  {
   "cell_type": "code",
   "execution_count": 53,
   "metadata": {},
   "outputs": [
    {
     "name": "stdout",
     "output_type": "stream",
     "text": [
      "[(0, 60), (55, 140), (100, 160)]\n"
     ]
    }
   ],
   "source": [
    "\n",
    "import math\n",
    "\n",
    "\n",
    "intervals = [(55, 140), (0, 60), (100, 160), (55, 140),\n",
    "             (0, 35), (60, 120), (40, 120), (130, 160)]\n",
    "target = (0, 160)\n",
    "\n",
    "intervals.sort()\n",
    "\n",
    "\n",
    "start = target[0] + 1  # Open interval\n",
    "end = target[0]       # Close interval\n",
    "\n",
    "result = []\n",
    "i = 0\n",
    "\n",
    "while i < len(intervals):\n",
    "    # current interval's start <=  target start\n",
    "    if (intervals[i][0] <= start):                          \n",
    "        end = max(intervals[i][1], end)\n",
    "        start = min(intervals[i][0], start)\n",
    "\n",
    "\n",
    "    else:\n",
    "        temp = start\n",
    "        # update start to end \n",
    "        start = end\n",
    "        result.append((temp, end))\n",
    "\n",
    "        if (intervals[i][0] > end or end >= target[1]):\n",
    "            break\n",
    "\n",
    "    i += 1\n",
    "\n",
    "\n",
    "# If target's end can't be reached\n",
    "if (end < target[1]):\n",
    "    print(-1)\n",
    "\n",
    "else:\n",
    "    print(result)\n"
   ]
  },
  {
   "cell_type": "code",
   "execution_count": null,
   "metadata": {},
   "outputs": [],
   "source": []
  }
 ],
 "metadata": {
  "kernelspec": {
   "display_name": "Python 3.10.7 64-bit",
   "language": "python",
   "name": "python3"
  },
  "language_info": {
   "codemirror_mode": {
    "name": "ipython",
    "version": 3
   },
   "file_extension": ".py",
   "mimetype": "text/x-python",
   "name": "python",
   "nbconvert_exporter": "python",
   "pygments_lexer": "ipython3",
   "version": "3.10.7"
  },
  "orig_nbformat": 4,
  "vscode": {
   "interpreter": {
    "hash": "dd345128216770f6f38b67442ad3cdddc5a19fc44e06514e71fac60fafc41200"
   }
  }
 },
 "nbformat": 4,
 "nbformat_minor": 2
}
